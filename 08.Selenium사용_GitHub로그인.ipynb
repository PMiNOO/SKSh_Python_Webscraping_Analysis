{
 "cells": [
  {
   "cell_type": "markdown",
   "metadata": {},
   "source": [
    "* [webdriver-manager github](https://github.com/SergeyPirogov/webdriver_manager)\n",
    "* [webdriver-manager PYPI](https://pypi.org/project/webdriver-manager/#use-with-ie)"
   ]
  },
  {
   "cell_type": "code",
   "execution_count": 7,
   "metadata": {},
   "outputs": [
    {
     "name": "stdout",
     "output_type": "stream",
     "text": [
      "Requirement already satisfied: webdriver-manager in c:\\users\\user\\anaconda3\\lib\\site-packages (4.0.2)\n",
      "Requirement already satisfied: requests in c:\\users\\user\\anaconda3\\lib\\site-packages (from webdriver-manager) (2.32.3)\n",
      "Requirement already satisfied: python-dotenv in c:\\users\\user\\anaconda3\\lib\\site-packages (from webdriver-manager) (0.21.0)\n",
      "Requirement already satisfied: packaging in c:\\users\\user\\anaconda3\\lib\\site-packages (from webdriver-manager) (24.1)\n",
      "Requirement already satisfied: charset-normalizer<4,>=2 in c:\\users\\user\\anaconda3\\lib\\site-packages (from requests->webdriver-manager) (3.3.2)\n",
      "Requirement already satisfied: idna<4,>=2.5 in c:\\users\\user\\anaconda3\\lib\\site-packages (from requests->webdriver-manager) (3.7)\n",
      "Requirement already satisfied: urllib3<3,>=1.21.1 in c:\\users\\user\\anaconda3\\lib\\site-packages (from requests->webdriver-manager) (2.5.0)\n",
      "Requirement already satisfied: certifi>=2017.4.17 in c:\\users\\user\\anaconda3\\lib\\site-packages (from requests->webdriver-manager) (2025.7.14)\n",
      "Note: you may need to restart the kernel to use updated packages.\n"
     ]
    }
   ],
   "source": [
    "%pip install webdriver-manager"
   ]
  },
  {
   "cell_type": "code",
   "execution_count": 4,
   "metadata": {},
   "outputs": [
    {
     "name": "stdout",
     "output_type": "stream",
     "text": [
      "Name: selenium\n",
      "Version: 4.34.2\n",
      "Summary: Official Python bindings for Selenium WebDriver\n",
      "Home-page: https://www.selenium.dev\n",
      "Author: \n",
      "Author-email: \n",
      "License: Apache 2.0\n",
      "Location: C:\\Users\\user\\anaconda3\\Lib\\site-packages\n",
      "Requires: certifi, trio, trio-websocket, typing_extensions, urllib3, websocket-client\n",
      "Required-by: \n"
     ]
    }
   ],
   "source": [
    "#pip install selenium\n",
    "!pip show selenium"
   ]
  },
  {
   "cell_type": "code",
   "execution_count": 8,
   "metadata": {},
   "outputs": [
    {
     "data": {
      "text/plain": [
       "'4.34.2'"
      ]
     },
     "execution_count": 8,
     "metadata": {},
     "output_type": "execute_result"
    }
   ],
   "source": [
    "import selenium\n",
    "\n",
    "selenium.__version__"
   ]
  },
  {
   "cell_type": "markdown",
   "metadata": {},
   "source": [
    "### WebDriver 의 Chrome 객체생성\n",
    "* python.org 웹사이트로 요청을 보내기\n",
    "* pypi 메뉴를 클릭해서 pypi.org 웹사이트로 이동하기"
   ]
  },
  {
   "cell_type": "code",
   "execution_count": 9,
   "metadata": {},
   "outputs": [
    {
     "name": "stdout",
     "output_type": "stream",
     "text": [
      "[<selenium.webdriver.remote.webelement.WebElement (session=\"7d870dea2b9b7e5d1a777e088b1dabd1\", element=\"f.ED5E3A7D3F03545C98A2E7DD8C0D8485.d.73247D44DAA0D8D7A3B67E2D61431C50.e.39\")>, <selenium.webdriver.remote.webelement.WebElement (session=\"7d870dea2b9b7e5d1a777e088b1dabd1\", element=\"f.ED5E3A7D3F03545C98A2E7DD8C0D8485.d.73247D44DAA0D8D7A3B67E2D61431C50.e.40\")>, <selenium.webdriver.remote.webelement.WebElement (session=\"7d870dea2b9b7e5d1a777e088b1dabd1\", element=\"f.ED5E3A7D3F03545C98A2E7DD8C0D8485.d.73247D44DAA0D8D7A3B67E2D61431C50.e.41\")>, <selenium.webdriver.remote.webelement.WebElement (session=\"7d870dea2b9b7e5d1a777e088b1dabd1\", element=\"f.ED5E3A7D3F03545C98A2E7DD8C0D8485.d.73247D44DAA0D8D7A3B67E2D61431C50.e.42\")>, <selenium.webdriver.remote.webelement.WebElement (session=\"7d870dea2b9b7e5d1a777e088b1dabd1\", element=\"f.ED5E3A7D3F03545C98A2E7DD8C0D8485.d.73247D44DAA0D8D7A3B67E2D61431C50.e.43\")>, <selenium.webdriver.remote.webelement.WebElement (session=\"7d870dea2b9b7e5d1a777e088b1dabd1\", element=\"f.ED5E3A7D3F03545C98A2E7DD8C0D8485.d.73247D44DAA0D8D7A3B67E2D61431C50.e.44\")>]\n",
      "Python <class 'selenium.webdriver.remote.webelement.WebElement'>\n",
      "PSF <class 'selenium.webdriver.remote.webelement.WebElement'>\n",
      "Docs <class 'selenium.webdriver.remote.webelement.WebElement'>\n",
      "PyPI <class 'selenium.webdriver.remote.webelement.WebElement'>\n",
      "Jobs <class 'selenium.webdriver.remote.webelement.WebElement'>\n",
      "Community <class 'selenium.webdriver.remote.webelement.WebElement'>\n"
     ]
    }
   ],
   "source": [
    "from selenium import webdriver\n",
    "from selenium.webdriver.chrome.service import Service\n",
    "from webdriver_manager.chrome import ChromeDriverManager\n",
    "from selenium.webdriver.common.by import By\n",
    "import time\n",
    "\n",
    "driver = webdriver.Chrome(service=Service(ChromeDriverManager().install()))\n",
    "driver.get(\"https://www.python.org/\")\n",
    "\n",
    "#webdriver에 포함된 Chrome 객체를 생성 - chromedriver.exe 사용해서\n",
    "\n",
    "#li 엘리먼트 선택해서 가져오기\n",
    "li_tags = driver.find_elements(By.CSS_SELECTOR,'div#top ul.menu li')\n",
    "print(li_tags)\n",
    "#pypi 엘리먼트를 찾아서 저장할 변수 선언\n",
    "pypi = None\n",
    "for li_tag in li_tags:\n",
    "    print(li_tag.text, type(li_tag))\n",
    "    if li_tag.text == 'PyPI':\n",
    "        pypi = li_tag\n",
    "        \n",
    "time.sleep(3)\n",
    "\n",
    "#pypi 엘리멘트의 click() 함수 호출\n",
    "pypi.click()\n",
    "\n",
    "#5초로 waiting time 설정\n",
    "time.sleep(5)\n",
    "#driver 종료\n",
    "driver.quit()"
   ]
  },
  {
   "cell_type": "markdown",
   "metadata": {},
   "source": [
    "### 네이버 포털의 image를 save 해보기"
   ]
  },
  {
   "cell_type": "code",
   "execution_count": 10,
   "metadata": {},
   "outputs": [],
   "source": [
    "import os\n",
    "#img 디렉토리 생성\n",
    "#img 디렉토리가 없으면\n",
    "if not os.path.isdir('img'):\n",
    "    os.mkdir('img')   "
   ]
  },
  {
   "cell_type": "code",
   "execution_count": 11,
   "metadata": {},
   "outputs": [],
   "source": [
    "from selenium import webdriver\n",
    "from selenium.webdriver.chrome.service import Service\n",
    "from webdriver_manager.chrome import ChromeDriverManager\n",
    "import time\n",
    "\n",
    "driver = webdriver.Chrome(service=Service(ChromeDriverManager().install()))\n",
    "driver.get(\"https://www.naver.com/\")\n",
    "driver.save_screenshot('img/naver.png')\n",
    "\n",
    "time.sleep(3)\n",
    "driver.quit()"
   ]
  },
  {
   "cell_type": "markdown",
   "metadata": {},
   "source": [
    "### 네이버 포털에 파이썬 검색어를 입력\n",
    "* 검색어를 입력하고 엔터를 치고\n",
    "* 검색된 결과중에서 지식인에 검색된 링크를 클릭"
   ]
  },
  {
   "cell_type": "code",
   "execution_count": 15,
   "metadata": {},
   "outputs": [
    {
     "name": "stdout",
     "output_type": "stream",
     "text": [
      "71\n"
     ]
    }
   ],
   "source": [
    "from selenium import webdriver\n",
    "from selenium.webdriver.chrome.service import Service\n",
    "from webdriver_manager.chrome import ChromeDriverManager\n",
    "from selenium.webdriver.common.by import By\n",
    "from selenium.webdriver.common.keys import Keys\n",
    "import time\n",
    "\n",
    "driver = webdriver.Chrome(service=Service(ChromeDriverManager().install()))\n",
    "#네이버 포털에 요청 보내기\n",
    "driver.get('https://www.naver.com/')\n",
    "time.sleep(2)\n",
    "\n",
    "#검색어 엘리먼트 가져오기\n",
    "search_tag = driver.find_element(By.CSS_SELECTOR,'#query')\n",
    "#print(search_tag)\n",
    "\n",
    "#검색창에 파이썬 키워드를 입력한다.\n",
    "search_tag.send_keys('python')\n",
    "#엔터를 입력한다.\n",
    "search_tag.send_keys(Keys.ENTER)\n",
    "time.sleep(5)\n",
    "\n",
    "#검색된 결과 중에서 a tag 가져오기 <a class='lnk_tit'>\n",
    "a_tags = driver.find_elements(By.CSS_SELECTOR,'a[nocr*=\"1\"]')\n",
    "print(len(a_tags))\n",
    "if a_tags:\n",
    "     #첫번째 a tag 선택하고, click() 함수 호출\n",
    "    a_tags[0].click()\n",
    "\n",
    "#지연 시간을 5초로 설정\n",
    "time.sleep(5)\n",
    "#driver 종료\n",
    "driver.quit()"
   ]
  },
  {
   "cell_type": "markdown",
   "metadata": {},
   "source": [
    "### GitHub 로그인 / 로그아웃\n",
    "* id 와 password를 입력하고 패스워드 필드에서 엔터를 치거나 로그인 버튼 클릭해서 로그인\n",
    "* 로그인 후에 이름과 메일건수를 알아내기\n",
    "* 로그아웃 버튼을 클릭해서 로그아웃 "
   ]
  },
  {
   "cell_type": "markdown",
   "metadata": {},
   "source": [
    "### 로그인 실패할 경우 처리한 코드"
   ]
  },
  {
   "cell_type": "code",
   "execution_count": 17,
   "metadata": {},
   "outputs": [
    {
     "ename": "InvalidSessionIdException",
     "evalue": "Message: invalid session id: session deleted as the browser has closed the connection\nfrom disconnected: not connected to DevTools\n  (Session info: chrome=138.0.7204.158); For documentation on this error, please visit: https://www.selenium.dev/documentation/webdriver/troubleshooting/errors#invalidsessionidexception\nStacktrace:\n\tGetHandleVerifier [0x0xd01af3+62339]\n\tGetHandleVerifier [0x0xd01b34+62404]\n\t(No symbol) [0x0xb42123]\n\t(No symbol) [0x0xb31b30]\n\t(No symbol) [0x0xb4f8f2]\n\t(No symbol) [0x0xbb5cbc]\n\t(No symbol) [0x0xbd0089]\n\t(No symbol) [0x0xbaf1b6]\n\t(No symbol) [0x0xb7e7a2]\n\t(No symbol) [0x0xb7f644]\n\tGetHandleVerifier [0x0xf76683+2637587]\n\tGetHandleVerifier [0x0xf71a8a+2618138]\n\tGetHandleVerifier [0x0xd2856a+220666]\n\tGetHandleVerifier [0x0xd18998+156200]\n\tGetHandleVerifier [0x0xd1f12d+182717]\n\tGetHandleVerifier [0x0xd09a38+94920]\n\tGetHandleVerifier [0x0xd09bc2+95314]\n\tGetHandleVerifier [0x0xcf4d0a+9626]\n\tBaseThreadInitThunk [0x0x75f45d49+25]\n\tRtlInitializeExceptionChain [0x0x7736d03b+107]\n\tRtlGetAppContainerNamedObjectPath [0x0x7736cfc1+561]\n",
     "output_type": "error",
     "traceback": [
      "\u001b[1;31m---------------------------------------------------------------------------\u001b[0m",
      "\u001b[1;31mInvalidSessionIdException\u001b[0m                 Traceback (most recent call last)",
      "Cell \u001b[1;32mIn[17], line 32\u001b[0m\n\u001b[0;32m     29\u001b[0m time\u001b[38;5;241m.\u001b[39msleep(\u001b[38;5;241m2\u001b[39m)\n\u001b[0;32m     31\u001b[0m \u001b[38;5;66;03m# #password필드에서 엔터치기\u001b[39;00m\n\u001b[1;32m---> 32\u001b[0m driver\u001b[38;5;241m.\u001b[39mfind_element(By\u001b[38;5;241m.\u001b[39mCSS_SELECTOR,\u001b[38;5;124m'\u001b[39m\u001b[38;5;124minput#password\u001b[39m\u001b[38;5;124m'\u001b[39m)\u001b[38;5;241m.\u001b[39msend_keys(Keys\u001b[38;5;241m.\u001b[39mRETURN)\n\u001b[0;32m     34\u001b[0m login_ok \u001b[38;5;241m=\u001b[39m \u001b[38;5;28;01mNone\u001b[39;00m\n\u001b[0;32m     35\u001b[0m \u001b[38;5;28;01mtry\u001b[39;00m:        \n",
      "File \u001b[1;32mc:\\Users\\user\\anaconda3\\Lib\\site-packages\\selenium\\webdriver\\remote\\webdriver.py:922\u001b[0m, in \u001b[0;36mWebDriver.find_element\u001b[1;34m(self, by, value)\u001b[0m\n\u001b[0;32m    919\u001b[0m         \u001b[38;5;28;01mraise\u001b[39;00m NoSuchElementException(\u001b[38;5;124mf\u001b[39m\u001b[38;5;124m\"\u001b[39m\u001b[38;5;124mCannot locate relative element with: \u001b[39m\u001b[38;5;132;01m{\u001b[39;00mby\u001b[38;5;241m.\u001b[39mroot\u001b[38;5;132;01m}\u001b[39;00m\u001b[38;5;124m\"\u001b[39m)\n\u001b[0;32m    920\u001b[0m     \u001b[38;5;28;01mreturn\u001b[39;00m elements[\u001b[38;5;241m0\u001b[39m]\n\u001b[1;32m--> 922\u001b[0m \u001b[38;5;28;01mreturn\u001b[39;00m \u001b[38;5;28mself\u001b[39m\u001b[38;5;241m.\u001b[39mexecute(Command\u001b[38;5;241m.\u001b[39mFIND_ELEMENT, {\u001b[38;5;124m\"\u001b[39m\u001b[38;5;124musing\u001b[39m\u001b[38;5;124m\"\u001b[39m: by, \u001b[38;5;124m\"\u001b[39m\u001b[38;5;124mvalue\u001b[39m\u001b[38;5;124m\"\u001b[39m: value})[\u001b[38;5;124m\"\u001b[39m\u001b[38;5;124mvalue\u001b[39m\u001b[38;5;124m\"\u001b[39m]\n",
      "File \u001b[1;32mc:\\Users\\user\\anaconda3\\Lib\\site-packages\\selenium\\webdriver\\remote\\webdriver.py:454\u001b[0m, in \u001b[0;36mWebDriver.execute\u001b[1;34m(self, driver_command, params)\u001b[0m\n\u001b[0;32m    451\u001b[0m response \u001b[38;5;241m=\u001b[39m cast(RemoteConnection, \u001b[38;5;28mself\u001b[39m\u001b[38;5;241m.\u001b[39mcommand_executor)\u001b[38;5;241m.\u001b[39mexecute(driver_command, params)\n\u001b[0;32m    453\u001b[0m \u001b[38;5;28;01mif\u001b[39;00m response:\n\u001b[1;32m--> 454\u001b[0m     \u001b[38;5;28mself\u001b[39m\u001b[38;5;241m.\u001b[39merror_handler\u001b[38;5;241m.\u001b[39mcheck_response(response)\n\u001b[0;32m    455\u001b[0m     response[\u001b[38;5;124m\"\u001b[39m\u001b[38;5;124mvalue\u001b[39m\u001b[38;5;124m\"\u001b[39m] \u001b[38;5;241m=\u001b[39m \u001b[38;5;28mself\u001b[39m\u001b[38;5;241m.\u001b[39m_unwrap_value(response\u001b[38;5;241m.\u001b[39mget(\u001b[38;5;124m\"\u001b[39m\u001b[38;5;124mvalue\u001b[39m\u001b[38;5;124m\"\u001b[39m, \u001b[38;5;28;01mNone\u001b[39;00m))\n\u001b[0;32m    456\u001b[0m     \u001b[38;5;28;01mreturn\u001b[39;00m response\n",
      "File \u001b[1;32mc:\\Users\\user\\anaconda3\\Lib\\site-packages\\selenium\\webdriver\\remote\\errorhandler.py:232\u001b[0m, in \u001b[0;36mErrorHandler.check_response\u001b[1;34m(self, response)\u001b[0m\n\u001b[0;32m    230\u001b[0m         alert_text \u001b[38;5;241m=\u001b[39m value[\u001b[38;5;124m\"\u001b[39m\u001b[38;5;124malert\u001b[39m\u001b[38;5;124m\"\u001b[39m]\u001b[38;5;241m.\u001b[39mget(\u001b[38;5;124m\"\u001b[39m\u001b[38;5;124mtext\u001b[39m\u001b[38;5;124m\"\u001b[39m)\n\u001b[0;32m    231\u001b[0m     \u001b[38;5;28;01mraise\u001b[39;00m exception_class(message, screen, stacktrace, alert_text)  \u001b[38;5;66;03m# type: ignore[call-arg]  # mypy is not smart enough here\u001b[39;00m\n\u001b[1;32m--> 232\u001b[0m \u001b[38;5;28;01mraise\u001b[39;00m exception_class(message, screen, stacktrace)\n",
      "\u001b[1;31mInvalidSessionIdException\u001b[0m: Message: invalid session id: session deleted as the browser has closed the connection\nfrom disconnected: not connected to DevTools\n  (Session info: chrome=138.0.7204.158); For documentation on this error, please visit: https://www.selenium.dev/documentation/webdriver/troubleshooting/errors#invalidsessionidexception\nStacktrace:\n\tGetHandleVerifier [0x0xd01af3+62339]\n\tGetHandleVerifier [0x0xd01b34+62404]\n\t(No symbol) [0x0xb42123]\n\t(No symbol) [0x0xb31b30]\n\t(No symbol) [0x0xb4f8f2]\n\t(No symbol) [0x0xbb5cbc]\n\t(No symbol) [0x0xbd0089]\n\t(No symbol) [0x0xbaf1b6]\n\t(No symbol) [0x0xb7e7a2]\n\t(No symbol) [0x0xb7f644]\n\tGetHandleVerifier [0x0xf76683+2637587]\n\tGetHandleVerifier [0x0xf71a8a+2618138]\n\tGetHandleVerifier [0x0xd2856a+220666]\n\tGetHandleVerifier [0x0xd18998+156200]\n\tGetHandleVerifier [0x0xd1f12d+182717]\n\tGetHandleVerifier [0x0xd09a38+94920]\n\tGetHandleVerifier [0x0xd09bc2+95314]\n\tGetHandleVerifier [0x0xcf4d0a+9626]\n\tBaseThreadInitThunk [0x0x75f45d49+25]\n\tRtlInitializeExceptionChain [0x0x7736d03b+107]\n\tRtlGetAppContainerNamedObjectPath [0x0x7736cfc1+561]\n"
     ]
    }
   ],
   "source": [
    "from selenium import webdriver\n",
    "from selenium.webdriver.chrome.service import Service\n",
    "from webdriver_manager.chrome import ChromeDriverManager\n",
    "from selenium.webdriver.common.by import By\n",
    "from selenium.webdriver.common.keys import Keys\n",
    "import time\n",
    "\n",
    "from selenium.webdriver.support.ui import WebDriverWait\n",
    "from selenium.webdriver.support import expected_conditions as EC\n",
    "from selenium.webdriver.common.by import By\n",
    "\n",
    "from selenium.common.exceptions import NoSuchElementException\n",
    "\n",
    "url = 'https://github.com/login'\n",
    "\n",
    "driver = webdriver.Chrome(service=Service(ChromeDriverManager().install()))\n",
    "#github login에 요청 보내기\n",
    "driver.get(url)\n",
    "\n",
    "#웹리소스 로딩을 위해서 2초 wait를 반드시 해주어야 합니다. \n",
    "#클래스 선택자를 못가져오고 에러가 발생했던 원인은 웹리소스들이 로딩이 되기 전에 tag를 가져와서 에러가 발생하였음\n",
    "driver.implicitly_wait(2)\n",
    "\n",
    "#time.sleep(2)\n",
    "\n",
    "#id와 password를 엘리먼트 찾고, 값을 입력하기\n",
    "driver.find_element(By.CSS_SELECTOR,'input#login_field').send_keys('user')\n",
    "driver.find_element(By.CSS_SELECTOR,'input#password').send_keys('pass')\n",
    "time.sleep(2)\n",
    "\n",
    "# #password필드에서 엔터치기\n",
    "driver.find_element(By.CSS_SELECTOR,'input#password').send_keys(Keys.RETURN)\n",
    "\n",
    "login_ok = None\n",
    "try:        \n",
    "    div_error = driver.find_element(By.CSS_SELECTOR,'div.js-flash-alert')\n",
    "    print(div_error)\n",
    "    if div_error:\n",
    "        login_ok = False\n",
    "        print(\"login fail ----------------\",login_ok)    \n",
    "except NoSuchElementException as nexp:\n",
    "    # 로그인 정상이면 div.js-flash-alert 태그가 없으므로 NoSuchElementException 이 발생함\n",
    "    login_ok = True\n",
    "except Exception as exp:\n",
    "    print(exp)\n",
    "\n",
    "print('login_ok', login_ok)\n",
    "\n",
    "if login_ok:    \n",
    "    try:\n",
    "        # 아바타 버튼 선택해서 클릭\n",
    "        avatar_img = driver.find_elements(By.CSS_SELECTOR, 'span.Button-label img')\n",
    "        if avatar_img:\n",
    "            avatar_img[0].click()\n",
    "            time.sleep(4)\n",
    "            \n",
    "            # repositories 메뉴 선택해서 클릭\n",
    "            repo_a_tag = driver.find_elements(By.CSS_SELECTOR,\"a[href*='?tab=repositories']\")\n",
    "            if repo_a_tag:\n",
    "                repo_a_tag[0].click()\n",
    "            time.sleep(4)\n",
    "\n",
    "            # repository 목록에서 첫번째 repository 클릭\n",
    "            repo1_a_tags = driver.find_elements(By.CSS_SELECTOR,\"ul li.col-12 h3.wb-break-all a\")\n",
    "            if repo1_a_tags:\n",
    "                repo1_a_tags[0].click()\n",
    "            time.sleep(4)\n",
    "            \n",
    "        # 아바타 버튼 선택해서 클릭            \n",
    "        avatar_img = driver.find_elements(By.CSS_SELECTOR, 'span.Button-label img')\n",
    "        if avatar_img:\n",
    "            avatar_img[0].click()\n",
    "            time.sleep(4)\n",
    "            \n",
    "            # 로그아웃 메뉴 선택해서 클릭\n",
    "            logout_a_tag = driver.find_elements(By.CSS_SELECTOR,\"a[href='/logout']\")\n",
    "            if logout_a_tag:\n",
    "                logout_a_tag[0].click()\n",
    "                \n",
    "        time.sleep(2)\n",
    "        #logout_input = driver.find_elements(By.CSS_SELECTOR,\"form input[name='commit']\")\n",
    "        logout_input = driver.find_elements_by_name(\"commit\")\n",
    "        if logout_input:\n",
    "            logout_input.submit()\n",
    "        time.sleep(2)\n",
    "        \n",
    "    except Exception as exp:\n",
    "        print(exp)\n",
    "\n",
    "time.sleep(3)\n",
    "driver.quit()"
   ]
  },
  {
   "cell_type": "markdown",
   "metadata": {},
   "source": [
    "#### 리팩토링 된 코드"
   ]
  },
  {
   "cell_type": "code",
   "execution_count": null,
   "metadata": {},
   "outputs": [],
   "source": [
    "from selenium import webdriver\n",
    "from selenium.webdriver.chrome.service import Service\n",
    "from webdriver_manager.chrome import ChromeDriverManager\n",
    "from selenium.webdriver.common.by import By\n",
    "from selenium.webdriver.common.keys import Keys\n",
    "from selenium.webdriver.support.ui import WebDriverWait\n",
    "from selenium.webdriver.support import expected_conditions as EC\n",
    "from selenium.common.exceptions import NoSuchElementException, TimeoutException\n",
    "import time\n",
    "\n",
    "# 상수 정의\n",
    "LOGIN_URL = 'https://github.com/login'\n",
    "USERNAME = 'your_username'  # 실제 사용자명으로 변경\n",
    "PASSWORD = 'your_password'  # 실제 비밀번호로 변경\n",
    "WAIT_TIMEOUT = 10\n",
    "\n",
    "def initialize_driver():\n",
    "    \"\"\"웹드라이버 초기화\"\"\"\n",
    "    service = Service(ChromeDriverManager().install())\n",
    "    driver = webdriver.Chrome(service=service)\n",
    "    driver.implicitly_wait(2)  # 암시적 대기 설정\n",
    "    return driver\n",
    "\n",
    "def wait_for_element(driver, locator, timeout=WAIT_TIMEOUT):\n",
    "    \"\"\"요소가 나타날 때까지 명시적으로 대기\"\"\"\n",
    "    try:\n",
    "        return WebDriverWait(driver, timeout).until(\n",
    "            EC.presence_of_element_located(locator)\n",
    "        )\n",
    "    except TimeoutException:\n",
    "        print(f\"요소를 찾을 수 없음: {locator}\")\n",
    "        return None\n",
    "\n",
    "def login(driver):\n",
    "    \"\"\"GitHub 로그인 시도\"\"\"\n",
    "    driver.get(LOGIN_URL)\n",
    "    \n",
    "    # 로그인 필드 찾기 및 입력\n",
    "    username_field = wait_for_element(driver, (By.CSS_SELECTOR, 'input#login_field'))\n",
    "    password_field = wait_for_element(driver, (By.CSS_SELECTOR, 'input#password'))\n",
    "    \n",
    "    if username_field and password_field:\n",
    "        username_field.send_keys(USERNAME)\n",
    "        password_field.send_keys(PASSWORD)\n",
    "        password_field.send_keys(Keys.RETURN)\n",
    "        time.sleep(2)  # 로그인 처리 대기\n",
    "        \n",
    "        # 로그인 성공 여부 확인\n",
    "        try:\n",
    "            error_div = driver.find_element(By.CSS_SELECTOR, 'div.js-flash-alert')\n",
    "            if error_div:\n",
    "                print(\"로그인 실패\")\n",
    "                return False\n",
    "        except NoSuchElementException:\n",
    "            print(\"로그인 성공\")\n",
    "            return True\n",
    "    return False\n",
    "\n",
    "def navigate_to_repositories(driver):\n",
    "    \"\"\"리포지토리 페이지로 이동\"\"\"\n",
    "    avatar = wait_for_element(driver, (By.CSS_SELECTOR, 'span.Button-label img'))\n",
    "    if avatar:\n",
    "        avatar.click()\n",
    "        time.sleep(1)  # 드롭다운 메뉴 나타날 때까지 대기\n",
    "        \n",
    "        repo_link = wait_for_element(driver, (By.CSS_SELECTOR, \"a[href*='?tab=repositories']\"))\n",
    "        if repo_link:\n",
    "            repo_link.click()\n",
    "            time.sleep(2)\n",
    "            return True\n",
    "    return False\n",
    "\n",
    "def select_first_repository(driver):\n",
    "    \"\"\"첫 번째 리포지토리 선택\"\"\"\n",
    "    repo_links = driver.find_elements(By.CSS_SELECTOR, \"ul li.col-12 h3.wb-break-all a\")\n",
    "    if repo_links:\n",
    "        repo_links[0].click()\n",
    "        time.sleep(2)\n",
    "        return True\n",
    "    return False\n",
    "\n",
    "def logout(driver):\n",
    "    \"\"\"로그아웃 수행\"\"\"\n",
    "    avatar = wait_for_element(driver, (By.CSS_SELECTOR, 'span.Button-label img'))\n",
    "    if avatar:\n",
    "        avatar.click()\n",
    "        time.sleep(1)\n",
    "        \n",
    "        logout_link = wait_for_element(driver, (By.CSS_SELECTOR, \"a[href='/logout']\"))\n",
    "        if logout_link:\n",
    "            logout_link.click()\n",
    "            time.sleep(1)\n",
    "            \n",
    "            logout_button = wait_for_element(driver, (By.NAME, 'commit'))\n",
    "            if logout_button:\n",
    "                logout_button.submit()\n",
    "                time.sleep(2)\n",
    "\n",
    "def main():\n",
    "    driver = None\n",
    "    try:\n",
    "        # 1. 드라이버 초기화\n",
    "        driver = initialize_driver()\n",
    "        \n",
    "        # 2. 로그인 시도\n",
    "        if not login(driver):\n",
    "            return  # 로그인 실패 시 종료\n",
    "        \n",
    "        # 3. 리포지토리 페이지로 이동\n",
    "        if navigate_to_repositories(driver):\n",
    "            # 4. 첫 번째 리포지토리 선택\n",
    "            select_first_repository(driver)\n",
    "        \n",
    "        # 5. 로그아웃\n",
    "        logout(driver)\n",
    "        \n",
    "    except Exception as e:\n",
    "        print(f\"오류 발생: {e}\")\n",
    "    finally:\n",
    "        if driver:\n",
    "            driver.quit()\n",
    "\n",
    "if __name__ == \"__main__\":\n",
    "    main()"
   ]
  },
  {
   "cell_type": "code",
   "execution_count": null,
   "metadata": {},
   "outputs": [],
   "source": []
  },
  {
   "cell_type": "code",
   "execution_count": null,
   "metadata": {},
   "outputs": [],
   "source": []
  }
 ],
 "metadata": {
  "kernelspec": {
   "display_name": "base",
   "language": "python",
   "name": "python3"
  },
  "language_info": {
   "codemirror_mode": {
    "name": "ipython",
    "version": 3
   },
   "file_extension": ".py",
   "mimetype": "text/x-python",
   "name": "python",
   "nbconvert_exporter": "python",
   "pygments_lexer": "ipython3",
   "version": "3.12.7"
  }
 },
 "nbformat": 4,
 "nbformat_minor": 4
}
