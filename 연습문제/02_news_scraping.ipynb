{
 "cells": [
  {
   "cell_type": "code",
   "execution_count": 5,
   "id": "d9222040",
   "metadata": {},
   "outputs": [
    {
     "name": "stdout",
     "output_type": "stream",
     "text": [
      "\n",
      "=== 최신뉴스 섹션 ===\n"
     ]
    },
    {
     "data": {
      "text/html": [
       "<img src=\"https://news.nateimg.co.kr/orgImg/kh/2025/07/23/news-p.v1.20250620.4e299038ec134c9b80f071f628995046_P1.jpg\" width=\"100\"/>"
      ],
      "text/plain": [
       "<IPython.core.display.Image object>"
      ]
     },
     "metadata": {},
     "output_type": "display_data"
    },
    {
     "name": "stdout",
     "output_type": "stream",
     "text": [
      "이미지 URL: https://news.nateimg.co.kr/orgImg/kh/2025/07/23/news-p.v1.20250620.4e299038ec134c9b80f071f628995046_P1.jpg\n",
      "1. 제목: 기재부의 딜레마···세금 감면 다이어트하려 보니 마땅치 않다\n",
      "   링크: https://news.nate.com/view/20250723n32116?mid=n0100\n",
      "--------------------------------------------------\n"
     ]
    },
    {
     "data": {
      "text/html": [
       "<img src=\"https://news.nateimg.co.kr/orgImg/jo/2025/07/23/f7543976-b19a-4510-9a19-322a16326188.jpg\" width=\"100\"/>"
      ],
      "text/plain": [
       "<IPython.core.display.Image object>"
      ]
     },
     "metadata": {},
     "output_type": "display_data"
    },
    {
     "name": "stdout",
     "output_type": "stream",
     "text": [
      "이미지 URL: https://news.nateimg.co.kr/orgImg/jo/2025/07/23/f7543976-b19a-4510-9a19-322a16326188.jpg\n",
      "2. 제목: 광운대, IPP형 일학습병행 성과평가 S등급\n",
      "   링크: https://news.nate.com/view/20250723n32115?mid=n0100\n",
      "--------------------------------------------------\n"
     ]
    },
    {
     "data": {
      "text/html": [
       "<img src=\"https://news.nateimg.co.kr/orgImg/do/2025/07/23/132056243.1.jpg\" width=\"100\"/>"
      ],
      "text/plain": [
       "<IPython.core.display.Image object>"
      ]
     },
     "metadata": {},
     "output_type": "display_data"
    },
    {
     "name": "stdout",
     "output_type": "stream",
     "text": [
      "이미지 URL: https://news.nateimg.co.kr/orgImg/do/2025/07/23/132056243.1.jpg\n",
      "3. 제목: 日 차기총리 여론 1위는 '여자 아베' 다카이치…고이즈미가 2위\n",
      "   링크: https://news.nate.com/view/20250723n29239?mid=n0100\n",
      "--------------------------------------------------\n"
     ]
    },
    {
     "data": {
      "text/html": [
       "<img src=\"https://news.nateimg.co.kr/orgImg/cz/2025/07/23/cz_1753259170007_734960_0.jpg\" width=\"100\"/>"
      ],
      "text/plain": [
       "<IPython.core.display.Image object>"
      ]
     },
     "metadata": {},
     "output_type": "display_data"
    },
    {
     "name": "stdout",
     "output_type": "stream",
     "text": [
      "이미지 URL: https://news.nateimg.co.kr/orgImg/cz/2025/07/23/cz_1753259170007_734960_0.jpg\n",
      "4. 제목: 방사청, 튀르키예 방산전시회에서 '통합한국관' 운영\n",
      "   링크: https://news.nate.com/view/20250723n32113?mid=n0100\n",
      "--------------------------------------------------\n"
     ]
    },
    {
     "data": {
      "text/html": [
       "<img src=\"https://news.nateimg.co.kr/orgImg/na/2025/07/23/7409488_high.jpg\" width=\"100\"/>"
      ],
      "text/plain": [
       "<IPython.core.display.Image object>"
      ]
     },
     "metadata": {},
     "output_type": "display_data"
    },
    {
     "name": "stdout",
     "output_type": "stream",
     "text": [
      "이미지 URL: https://news.nateimg.co.kr/orgImg/na/2025/07/23/7409488_high.jpg\n",
      "5. 제목: 안선영 \"홈쇼핑 1시간 출연료 1500만원…200만원 쥐고 상경해 성공\"\n",
      "   링크: https://news.nate.com/view/20250723n27431?mid=n0100\n",
      "--------------------------------------------------\n",
      "\n",
      "=== 정치 섹션 ===\n"
     ]
    },
    {
     "data": {
      "text/html": [
       "<img src=\"https://news.nateimg.co.kr/orgImg/na/2025/07/23/7392529_high.jpg\" width=\"100\"/>"
      ],
      "text/plain": [
       "<IPython.core.display.Image object>"
      ]
     },
     "metadata": {},
     "output_type": "display_data"
    },
    {
     "name": "stdout",
     "output_type": "stream",
     "text": [
      "이미지 URL: https://news.nateimg.co.kr/orgImg/na/2025/07/23/7392529_high.jpg\n",
      "1. 제목: 보좌관 갑질 이어 장관 갑질까지…버티던 강선우 물러났다\n",
      "   링크: https://news.nate.com/view/20250723n32212?mid=n0200\n",
      "--------------------------------------------------\n"
     ]
    },
    {
     "data": {
      "text/html": [
       "<img src=\"https://news.nateimg.co.kr/orgImg/na/2025/07/23/7393042_high.jpg\" width=\"100\"/>"
      ],
      "text/plain": [
       "<IPython.core.display.Image object>"
      ]
     },
     "metadata": {},
     "output_type": "display_data"
    },
    {
     "name": "stdout",
     "output_type": "stream",
     "text": [
      "이미지 URL: https://news.nateimg.co.kr/orgImg/na/2025/07/23/7393042_high.jpg\n",
      "2. 제목: 국힘, 강선우 사퇴에 \"李대통령, 국민 앞에 방탄·보은 인사 사과해야\"\n",
      "   링크: https://news.nate.com/view/20250723n32191?mid=n0200\n",
      "--------------------------------------------------\n"
     ]
    },
    {
     "data": {
      "text/html": [
       "<img src=\"https://news.nateimg.co.kr/orgImg/ni/2025/07/23/2507231718233770.jpg\" width=\"100\"/>"
      ],
      "text/plain": [
       "<IPython.core.display.Image object>"
      ]
     },
     "metadata": {},
     "output_type": "display_data"
    },
    {
     "name": "stdout",
     "output_type": "stream",
     "text": [
      "이미지 URL: https://news.nateimg.co.kr/orgImg/ni/2025/07/23/2507231718233770.jpg\n",
      "3. 제목: 세종시의회, 집중호우 피해지역 복구 지원\n",
      "   링크: https://news.nate.com/view/20250723n32190?mid=n0200\n",
      "--------------------------------------------------\n"
     ]
    },
    {
     "data": {
      "text/html": [
       "<img src=\"https://news.nateimg.co.kr/orgImg/ch/2025/07/23/ch_1753259233436_283173_0.jpg\" width=\"100\"/>"
      ],
      "text/plain": [
       "<IPython.core.display.Image object>"
      ]
     },
     "metadata": {},
     "output_type": "display_data"
    },
    {
     "name": "stdout",
     "output_type": "stream",
     "text": [
      "이미지 URL: https://news.nateimg.co.kr/orgImg/ch/2025/07/23/ch_1753259233436_283173_0.jpg\n",
      "4. 제목: 윤희숙 혁신안 외면한 국민의힘 의원들\n",
      "   링크: https://news.nate.com/view/20250723n25234?mid=n0200\n",
      "--------------------------------------------------\n"
     ]
    },
    {
     "data": {
      "text/html": [
       "<img src=\"https://news.nateimg.co.kr/orgImg/cb/2025/07/23/202507231053554735_0.jpg\" width=\"100\"/>"
      ],
      "text/plain": [
       "<IPython.core.display.Image object>"
      ]
     },
     "metadata": {},
     "output_type": "display_data"
    },
    {
     "name": "stdout",
     "output_type": "stream",
     "text": [
      "이미지 URL: https://news.nateimg.co.kr/orgImg/cb/2025/07/23/202507231053554735_0.jpg\n",
      "5. 제목: 장동혁 \"계엄은 민주당 책임…조경태 당 떠나라\"[영상]\n",
      "   링크: https://news.nate.com/view/20250723n12813?mid=n0200\n",
      "--------------------------------------------------\n",
      "\n",
      "=== 경제 섹션 ===\n"
     ]
    },
    {
     "data": {
      "text/html": [
       "<img src=\"https://news.nateimg.co.kr/orgImg/na/2025/07/23/7409726_high.jpg\" width=\"100\"/>"
      ],
      "text/plain": [
       "<IPython.core.display.Image object>"
      ]
     },
     "metadata": {},
     "output_type": "display_data"
    },
    {
     "name": "stdout",
     "output_type": "stream",
     "text": [
      "이미지 URL: https://news.nateimg.co.kr/orgImg/na/2025/07/23/7409726_high.jpg\n",
      "1. 제목: 임광현 국세청장 \"미래혁신 추진단 즉시 출범…'AI 대전환' 이루겠다\"\n",
      "   링크: https://news.nate.com/view/20250723n29361?mid=n0300\n",
      "--------------------------------------------------\n"
     ]
    },
    {
     "data": {
      "text/html": [
       "<img src=\"https://news.nateimg.co.kr/orgImg/hk/2025/07/23/02.22579247.1.jpg\" width=\"100\"/>"
      ],
      "text/plain": [
       "<IPython.core.display.Image object>"
      ]
     },
     "metadata": {},
     "output_type": "display_data"
    },
    {
     "name": "stdout",
     "output_type": "stream",
     "text": [
      "이미지 URL: https://news.nateimg.co.kr/orgImg/hk/2025/07/23/02.22579247.1.jpg\n",
      "2. 제목: [속보] 中 \"허리펑 부총리 27∼30일 스웨덴 방문…美와 무역회담\"\n",
      "   링크: https://news.nate.com/view/20250723n32204?mid=n0300\n",
      "--------------------------------------------------\n"
     ]
    },
    {
     "data": {
      "text/html": [
       "<img src=\"https://news.nateimg.co.kr/orgImg/hk/2025/07/23/01.41201311.1.jpg\" width=\"100\"/>"
      ],
      "text/plain": [
       "<IPython.core.display.Image object>"
      ]
     },
     "metadata": {},
     "output_type": "display_data"
    },
    {
     "name": "stdout",
     "output_type": "stream",
     "text": [
      "이미지 URL: https://news.nateimg.co.kr/orgImg/hk/2025/07/23/01.41201311.1.jpg\n",
      "3. 제목: [포토] 대한민국 올해의 녹색상품 시상식 개최\n",
      "   링크: https://news.nate.com/view/20250723n32200?mid=n0300\n",
      "--------------------------------------------------\n"
     ]
    },
    {
     "data": {
      "text/html": [
       "<img src=\"https://news.nateimg.co.kr/orgImg/ni/2025/07/23/2507231720149800.jpg\" width=\"100\"/>"
      ],
      "text/plain": [
       "<IPython.core.display.Image object>"
      ]
     },
     "metadata": {},
     "output_type": "display_data"
    },
    {
     "name": "stdout",
     "output_type": "stream",
     "text": [
      "이미지 URL: https://news.nateimg.co.kr/orgImg/ni/2025/07/23/2507231720149800.jpg\n",
      "4. 제목: 방통위, 단통법 폐지 첫날 유통 현장 점검\n",
      "   링크: https://news.nate.com/view/20250723n32196?mid=n0300\n",
      "--------------------------------------------------\n"
     ]
    },
    {
     "data": {
      "text/html": [
       "<img src=\"https://news.nateimg.co.kr/orgImg/hk/2025/07/23/01.41201389.1.jpg\" width=\"100\"/>"
      ],
      "text/plain": [
       "<IPython.core.display.Image object>"
      ]
     },
     "metadata": {},
     "output_type": "display_data"
    },
    {
     "name": "stdout",
     "output_type": "stream",
     "text": [
      "이미지 URL: https://news.nateimg.co.kr/orgImg/hk/2025/07/23/01.41201389.1.jpg\n",
      "5. 제목: 지방 부동산 시장서 'KTX 프리미엄' 단지 관심\n",
      "   링크: https://news.nate.com/view/20250723n32156?mid=n0300\n",
      "--------------------------------------------------\n",
      "\n",
      "=== 사회 섹션 ===\n"
     ]
    },
    {
     "data": {
      "text/html": [
       "<img src=\"https://news.nateimg.co.kr/orgImg/na/2025/07/23/5366059_high.jpg\" width=\"100\"/>"
      ],
      "text/plain": [
       "<IPython.core.display.Image object>"
      ]
     },
     "metadata": {},
     "output_type": "display_data"
    },
    {
     "name": "stdout",
     "output_type": "stream",
     "text": [
      "이미지 URL: https://news.nateimg.co.kr/orgImg/na/2025/07/23/5366059_high.jpg\n",
      "1. 제목: 진돗개 풀어 야생동물 잔혹 사냥…검찰·피고 모두 항소\n",
      "   링크: https://news.nate.com/view/20250723n24891?mid=n0400\n",
      "--------------------------------------------------\n"
     ]
    },
    {
     "data": {
      "text/html": [
       "<img src=\"https://news.nateimg.co.kr/orgImg/do/2025/07/23/132056991.1.jpg\" width=\"100\"/>"
      ],
      "text/plain": [
       "<IPython.core.display.Image object>"
      ]
     },
     "metadata": {},
     "output_type": "display_data"
    },
    {
     "name": "stdout",
     "output_type": "stream",
     "text": [
      "이미지 URL: https://news.nateimg.co.kr/orgImg/do/2025/07/23/132056991.1.jpg\n",
      "2. 제목: 檢, 성폭행범 혀 깨문 최말자씨 재심 무죄 구형…\"61년 고통·아픔 드려 사죄\"\n",
      "   링크: https://news.nate.com/view/20250723n32134?mid=n0400\n",
      "--------------------------------------------------\n"
     ]
    },
    {
     "data": {
      "text/html": [
       "<img src=\"https://news.nateimg.co.kr/orgImg/na/2025/07/23/7384750_high.jpg\" width=\"100\"/>"
      ],
      "text/plain": [
       "<IPython.core.display.Image object>"
      ]
     },
     "metadata": {},
     "output_type": "display_data"
    },
    {
     "name": "stdout",
     "output_type": "stream",
     "text": [
      "이미지 URL: https://news.nateimg.co.kr/orgImg/na/2025/07/23/7384750_high.jpg\n",
      "3. 제목: '집사게이트' 3개월 뒤 KB캐피탈 20억원 투자…특검 \"필요시 조사\"\n",
      "   링크: https://news.nate.com/view/20250723n31732?mid=n0400\n",
      "--------------------------------------------------\n"
     ]
    },
    {
     "data": {
      "text/html": [
       "<img src=\"https://news.nateimg.co.kr/orgImg/cz/2025/07/23/cz_1753259284993_916886_0.jpg\" width=\"100\"/>"
      ],
      "text/plain": [
       "<IPython.core.display.Image object>"
      ]
     },
     "metadata": {},
     "output_type": "display_data"
    },
    {
     "name": "stdout",
     "output_type": "stream",
     "text": [
      "이미지 URL: https://news.nateimg.co.kr/orgImg/cz/2025/07/23/cz_1753259284993_916886_0.jpg\n",
      "4. 제목: 딸은 훔친 시험지로 줄곧 '전교 1등'…엄마·교사·행정실장 구속 송치\n",
      "   링크: https://news.nate.com/view/20250723n32205?mid=n0400\n",
      "--------------------------------------------------\n"
     ]
    },
    {
     "data": {
      "text/html": [
       "<img src=\"https://news.nateimg.co.kr/orgImg/ae/2025/07/23/ae_1753259284899_438004_0.jpg\" width=\"100\"/>"
      ],
      "text/plain": [
       "<IPython.core.display.Image object>"
      ]
     },
     "metadata": {},
     "output_type": "display_data"
    },
    {
     "name": "stdout",
     "output_type": "stream",
     "text": [
      "이미지 URL: https://news.nateimg.co.kr/orgImg/ae/2025/07/23/ae_1753259284899_438004_0.jpg\n",
      "5. 제목: 구리시, 고덕토평대교 하부 공원 '시민 품으로'…8월 개방\n",
      "   링크: https://news.nate.com/view/20250723n32186?mid=n0400\n",
      "--------------------------------------------------\n",
      "\n",
      "=== 세계 섹션 ===\n"
     ]
    },
    {
     "data": {
      "text/html": [
       "<img src=\"https://news.nateimg.co.kr/orgImg/hk/2025/07/23/AA.41201331.1.jpg\" width=\"100\"/>"
      ],
      "text/plain": [
       "<IPython.core.display.Image object>"
      ]
     },
     "metadata": {},
     "output_type": "display_data"
    },
    {
     "name": "stdout",
     "output_type": "stream",
     "text": [
      "이미지 URL: https://news.nateimg.co.kr/orgImg/hk/2025/07/23/AA.41201331.1.jpg\n",
      "1. 제목: 삼성바이오 '깜짝 실적'…상반기 영업익 1조 육박\n",
      "   링크: https://news.nate.com/view/20250723n32202?mid=n0600\n",
      "--------------------------------------------------\n"
     ]
    },
    {
     "data": {
      "text/html": [
       "<img src=\"https://news.nateimg.co.kr/orgImg/hk/2025/07/23/AA.41201329.4.jpg\" width=\"100\"/>"
      ],
      "text/plain": [
       "<IPython.core.display.Image object>"
      ]
     },
     "metadata": {},
     "output_type": "display_data"
    },
    {
     "name": "stdout",
     "output_type": "stream",
     "text": [
      "이미지 URL: https://news.nateimg.co.kr/orgImg/hk/2025/07/23/AA.41201329.4.jpg\n",
      "2. 제목: 美, 비만약 TV광고 할 때…韓, 가짜정보 수정 요청도 못해\n",
      "   링크: https://news.nate.com/view/20250723n32161?mid=n0600\n",
      "--------------------------------------------------\n",
      "이미지 없음\n",
      "3. 제목: 큐라클, 세계 알츠하이머 치료제 본격 진출\n",
      "   링크: https://news.nate.com/view/20250723n32102?mid=n0600\n",
      "--------------------------------------------------\n"
     ]
    },
    {
     "data": {
      "text/html": [
       "<img src=\"https://news.nateimg.co.kr/orgImg/cz/2025/07/23/cz_1753259164836_495000_0.jpg\" width=\"100\"/>"
      ],
      "text/plain": [
       "<IPython.core.display.Image object>"
      ]
     },
     "metadata": {},
     "output_type": "display_data"
    },
    {
     "name": "stdout",
     "output_type": "stream",
     "text": [
      "이미지 URL: https://news.nateimg.co.kr/orgImg/cz/2025/07/23/cz_1753259164836_495000_0.jpg\n",
      "4. 제목: [과학게시판] 생명연-화학연, 공동협력센터 지정 外\n",
      "   링크: https://news.nate.com/view/20250723n32100?mid=n0600\n",
      "--------------------------------------------------\n"
     ]
    },
    {
     "data": {
      "text/html": [
       "<img src=\"https://news.nateimg.co.kr/orgImg/hn/2025/07/23/20250723503290.jpg\" width=\"100\"/>"
      ],
      "text/plain": [
       "<IPython.core.display.Image object>"
      ]
     },
     "metadata": {},
     "output_type": "display_data"
    },
    {
     "name": "stdout",
     "output_type": "stream",
     "text": [
      "이미지 URL: https://news.nateimg.co.kr/orgImg/hn/2025/07/23/20250723503290.jpg\n",
      "5. 제목: LG CNS, 2분기 영업이익 1408억…AI∙클라우드가 실적 이끌어\n",
      "   링크: https://news.nate.com/view/20250723n31828?mid=n0600\n",
      "--------------------------------------------------\n",
      "\n",
      "=== IT/과학 섹션 ===\n"
     ]
    },
    {
     "data": {
      "text/html": [
       "<img src=\"https://news.nateimg.co.kr/orgImg/na/2025/07/23/7392529_high.jpg\" width=\"100\"/>"
      ],
      "text/plain": [
       "<IPython.core.display.Image object>"
      ]
     },
     "metadata": {},
     "output_type": "display_data"
    },
    {
     "name": "stdout",
     "output_type": "stream",
     "text": [
      "이미지 URL: https://news.nateimg.co.kr/orgImg/na/2025/07/23/7392529_high.jpg\n",
      "1. 제목: 보좌관 갑질 이어 장관 갑질까지…버티던 강선우 물러났다\n",
      "   링크: https://news.nate.com/view/20250723n32212?mid=n0800\n",
      "--------------------------------------------------\n"
     ]
    },
    {
     "data": {
      "text/html": [
       "<img src=\"https://news.nateimg.co.kr/orgImg/na/2025/07/23/7409726_high.jpg\" width=\"100\"/>"
      ],
      "text/plain": [
       "<IPython.core.display.Image object>"
      ]
     },
     "metadata": {},
     "output_type": "display_data"
    },
    {
     "name": "stdout",
     "output_type": "stream",
     "text": [
      "이미지 URL: https://news.nateimg.co.kr/orgImg/na/2025/07/23/7409726_high.jpg\n",
      "2. 제목: 임광현 국세청장 \"미래혁신 추진단 즉시 출범…'AI 대전환' 이루겠다\"\n",
      "   링크: https://news.nate.com/view/20250723n29361?mid=n0800\n",
      "--------------------------------------------------\n"
     ]
    },
    {
     "data": {
      "text/html": [
       "<img src=\"https://news.nateimg.co.kr/orgImg/na/2025/07/23/5366059_high.jpg\" width=\"100\"/>"
      ],
      "text/plain": [
       "<IPython.core.display.Image object>"
      ]
     },
     "metadata": {},
     "output_type": "display_data"
    },
    {
     "name": "stdout",
     "output_type": "stream",
     "text": [
      "이미지 URL: https://news.nateimg.co.kr/orgImg/na/2025/07/23/5366059_high.jpg\n",
      "3. 제목: 진돗개 풀어 야생동물 잔혹 사냥…검찰·피고 모두 항소\n",
      "   링크: https://news.nate.com/view/20250723n24891?mid=n0800\n",
      "--------------------------------------------------\n"
     ]
    },
    {
     "data": {
      "text/html": [
       "<img src=\"https://news.nateimg.co.kr/orgImg/do/2025/07/23/132056991.1.jpg\" width=\"100\"/>"
      ],
      "text/plain": [
       "<IPython.core.display.Image object>"
      ]
     },
     "metadata": {},
     "output_type": "display_data"
    },
    {
     "name": "stdout",
     "output_type": "stream",
     "text": [
      "이미지 URL: https://news.nateimg.co.kr/orgImg/do/2025/07/23/132056991.1.jpg\n",
      "4. 제목: 檢, 성폭행범 혀 깨문 최말자씨 재심 무죄 구형…\"61년 고통·아픔 드려 사죄\"\n",
      "   링크: https://news.nate.com/view/20250723n32134?mid=n0800\n",
      "--------------------------------------------------\n"
     ]
    },
    {
     "data": {
      "text/html": [
       "<img src=\"https://news.nateimg.co.kr/orgImg/do/2025/07/23/132056998.1.jpg\" width=\"100\"/>"
      ],
      "text/plain": [
       "<IPython.core.display.Image object>"
      ]
     },
     "metadata": {},
     "output_type": "display_data"
    },
    {
     "name": "stdout",
     "output_type": "stream",
     "text": [
      "이미지 URL: https://news.nateimg.co.kr/orgImg/do/2025/07/23/132056998.1.jpg\n",
      "5. 제목: 日 차기총리 여론 1위는 '여자 아베' 다카이치…고이즈미가 2위\n",
      "   링크: https://news.nate.com/view/20250723n29239?mid=n0800\n",
      "--------------------------------------------------\n"
     ]
    }
   ],
   "source": [
    "import requests\n",
    "from bs4 import BeautifulSoup\n",
    "from urllib.parse import urljoin\n",
    "from IPython.display import Image, display\n",
    "\n",
    "def scrape_nate_news():\n",
    "    # 섹션 정보 (섹션명: URL)\n",
    "    sections = {\n",
    "        \"최신뉴스\": \"https://news.nate.com/recent?mid=n0100\",\n",
    "        \"정치\": \"https://news.nate.com/recent?mid=n0200\",\n",
    "        \"경제\": \"https://news.nate.com/recent?mid=n0300\",\n",
    "        \"사회\": \"https://news.nate.com/recent?mid=n0400\",\n",
    "        \"세계\": \"https://news.nate.com/recent?mid=n0600\",\n",
    "        \"IT/과학\": \"https://news.nate.com/recent?mid=n0800\"\n",
    "    }\n",
    "    \n",
    "    for section_name, section_url in sections.items():\n",
    "        print(f\"\\n=== {section_name} 섹션 ===\")\n",
    "        \n",
    "        try:\n",
    "            # 페이지 요청\n",
    "            headers = {'User-Agent': 'Mozilla/5.0'}\n",
    "            response = requests.get(section_url, headers=headers)\n",
    "            response.raise_for_status()\n",
    "            \n",
    "            # HTML 파싱\n",
    "            soup = BeautifulSoup(response.text, 'html.parser')\n",
    "            \n",
    "            # 기사 목록 추출\n",
    "            articles = soup.select('.mduSubjectList .mlt01')\n",
    "            \n",
    "            for i, article in enumerate(articles[:5], 1):  # 각 섹션에서 상위 5개 기사만 출력\n",
    "                # 제목 추출\n",
    "                title_tag = article.select_one('h2.tit')\n",
    "                title = title_tag.get_text(strip=True) if title_tag else \"제목 없음\"\n",
    "                \n",
    "                # 링크 추출\n",
    "                link_tag = article.find('a')\n",
    "                link = urljoin(section_url, link_tag['href']) if link_tag and 'href' in link_tag.attrs else \"링크 없음\"\n",
    "                \n",
    "                # 이미지 추출\n",
    "                img_tag = article.select_one('img')\n",
    "                if img_tag and 'src' in img_tag.attrs:\n",
    "                    img_url = urljoin(section_url, img_tag['src'])\n",
    "                    # 이미지가 없는 경우를 대비한 onerror 속성 확인\n",
    "                    if 'onerror' in img_tag.attrs:\n",
    "                        # onerror 속성에서 실제 이미지 URL 추출\n",
    "                        onerror = img_tag['onerror']\n",
    "                        if 'ImgError' in onerror:\n",
    "                            # ImgError 함수에서 실제 이미지 URL 추출\n",
    "                            parts = onerror.split(',')\n",
    "                            if len(parts) >= 2:\n",
    "                                actual_url = parts[1].strip().strip(\"'\\\"\")\n",
    "                                img_url = urljoin(section_url, actual_url)\n",
    "                    \n",
    "                    try:\n",
    "                        # 이미지 출력\n",
    "                        display(Image(url=img_url, width=100))\n",
    "                        print(f\"이미지 URL: {img_url}\")\n",
    "                    except:\n",
    "                        print(\"이미지를 불러올 수 없습니다.\")\n",
    "                else:\n",
    "                    print(\"이미지 없음\")\n",
    "                \n",
    "                print(f\"{i}. 제목: {title}\")\n",
    "                print(f\"   링크: {link}\")\n",
    "                print(\"-\" * 50)\n",
    "                \n",
    "        except Exception as e:\n",
    "            print(f\"{section_name} 섹션을 가져오는 중 오류 발생: {e}\")\n",
    "\n",
    "# 함수 실행\n",
    "scrape_nate_news()"
   ]
  },
  {
   "cell_type": "code",
   "execution_count": 6,
   "id": "92887eaf",
   "metadata": {},
   "outputs": [
    {
     "name": "stdout",
     "output_type": "stream",
     "text": [
      "Downloaded: img/잔불의 기사/198/1.jpg\n",
      "Downloaded: img/잔불의 기사/198/2.jpg\n",
      "Downloaded: img/잔불의 기사/198/3.jpg\n",
      "Downloaded: img/잔불의 기사/198/4.jpg\n",
      "Downloaded: img/잔불의 기사/198/5.jpg\n",
      "Downloaded: img/잔불의 기사/198/6.jpg\n",
      "Downloaded: img/잔불의 기사/198/7.jpg\n",
      "Downloaded: img/잔불의 기사/198/8.jpg\n",
      "Downloaded: img/잔불의 기사/198/9.jpg\n",
      "Downloaded: img/잔불의 기사/198/10.jpg\n",
      "Downloaded: img/잔불의 기사/198/11.jpg\n",
      "Downloaded: img/잔불의 기사/198/12.jpg\n",
      "Downloaded: img/잔불의 기사/198/13.jpg\n",
      "Downloaded: img/잔불의 기사/198/14.jpg\n",
      "Downloaded: img/잔불의 기사/198/15.jpg\n",
      "Downloaded: img/잔불의 기사/198/16.jpg\n",
      "Downloaded: img/잔불의 기사/198/17.jpg\n",
      "Downloaded: img/잔불의 기사/198/18.jpg\n",
      "Downloaded: img/잔불의 기사/198/19.jpg\n",
      "Downloaded: img/잔불의 기사/198/20.jpg\n",
      "Downloaded: img/잔불의 기사/198/21.jpg\n",
      "Downloaded: img/잔불의 기사/198/22.jpg\n",
      "Downloaded: img/잔불의 기사/198/23.jpg\n",
      "Downloaded: img/잔불의 기사/198/24.jpg\n",
      "Downloaded: img/잔불의 기사/198/25.jpg\n",
      "Downloaded: img/잔불의 기사/198/26.jpg\n",
      "Downloaded: img/잔불의 기사/198/27.jpg\n",
      "Downloaded: img/잔불의 기사/198/28.jpg\n",
      "Downloaded: img/잔불의 기사/198/29.jpg\n",
      "Downloaded: img/잔불의 기사/198/30.jpg\n",
      "Downloaded: img/잔불의 기사/198/31.jpg\n",
      "Downloaded: img/잔불의 기사/198/32.jpg\n",
      "Downloaded: img/잔불의 기사/198/33.jpg\n",
      "Downloaded: img/잔불의 기사/198/34.jpg\n",
      "Downloaded: img/잔불의 기사/198/35.jpg\n",
      "Downloaded: img/잔불의 기사/198/36.jpg\n",
      "Downloaded: img/잔불의 기사/198/37.jpg\n",
      "Downloaded: img/잔불의 기사/198/38.jpg\n",
      "Downloaded: img/잔불의 기사/198/39.jpg\n",
      "Downloaded: img/잔불의 기사/198/40.jpg\n",
      "Downloaded: img/잔불의 기사/198/41.jpg\n",
      "Downloaded: img/잔불의 기사/198/42.jpg\n",
      "All images downloaded to img/잔불의 기사/198\n"
     ]
    }
   ],
   "source": [
    "import os\n",
    "import requests\n",
    "from bs4 import BeautifulSoup\n",
    "\n",
    "def download_one_episode(title, no, url):\n",
    "    # 이미지 저장 디렉토리 생성\n",
    "    dir_path = f\"img/{title}/{no}\"\n",
    "    os.makedirs(dir_path, exist_ok=True)\n",
    "    \n",
    "    # 웹툰 페이지 가져오기\n",
    "    headers = {\n",
    "        'User-Agent': 'Mozilla/5.0 (Windows NT 10.0; Win64; x64) AppleWebKit/537.36 (KHTML, like Gecko) Chrome/91.0.4472.124 Safari/537.36'\n",
    "    }\n",
    "    response = requests.get(url, headers=headers)\n",
    "    soup = BeautifulSoup(response.text, 'html.parser')\n",
    "    \n",
    "    # 이미지 태그 찾기\n",
    "    img_tags = soup.select('#comic_view_area img')\n",
    "    \n",
    "    # 각 이미지 다운로드\n",
    "    for idx, img in enumerate(img_tags):\n",
    "        img_url = img['src']\n",
    "        \n",
    "        # 이미지 다운로드\n",
    "        img_data = requests.get(img_url, headers=headers).content\n",
    "        \n",
    "        # 파일 저장 (이미지 확장자는 jpg로 가정)\n",
    "        file_path = f\"{dir_path}/{idx+1}.jpg\"\n",
    "        with open(file_path, 'wb') as f:\n",
    "            f.write(img_data)\n",
    "        \n",
    "        print(f\"Downloaded: {file_path}\")\n",
    "    \n",
    "    print(f\"All images downloaded to {dir_path}\")\n",
    "\n",
    "# 예시 사용법\n",
    "download_one_episode('잔불의 기사', 198, 'https://comic.naver.com/webtoon/detail?titleId=768536&no=198&week=mon')"
   ]
  }
 ],
 "metadata": {
  "kernelspec": {
   "display_name": "base",
   "language": "python",
   "name": "python3"
  },
  "language_info": {
   "codemirror_mode": {
    "name": "ipython",
    "version": 3
   },
   "file_extension": ".py",
   "mimetype": "text/x-python",
   "name": "python",
   "nbconvert_exporter": "python",
   "pygments_lexer": "ipython3",
   "version": "3.12.7"
  }
 },
 "nbformat": 4,
 "nbformat_minor": 5
}
